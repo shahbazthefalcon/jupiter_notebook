{
 "cells": [
  {
   "cell_type": "markdown",
   "id": "bf116d5d",
   "metadata": {},
   "source": [
    "# BODY MASS INDEX BMI CALCULATIONS\n",
    "1.input weight\n",
    "2.input height\n",
    "3.calculate BMI\n",
    "4.print MY BMI is"
   ]
  },
  {
   "cell_type": "code",
   "execution_count": 7,
   "id": "05df7c02",
   "metadata": {},
   "outputs": [
    {
     "name": "stdout",
     "output_type": "stream",
     "text": [
      "Your weight in KGs =75\n",
      "Your height in Meter =1.7678\n",
      "Please type your nameShahbaz\n",
      "My name is:- Shahbaz and my BMI is= 23.999102702348882\n"
     ]
    }
   ],
   "source": [
    "w=input(\"Your weight in KGs =\")\n",
    "w=int(w)\n",
    "type(w)\n",
    "h=input(\"Your height in Meter =\")\n",
    "h=float(h)\n",
    "type(h)\n",
    "name=input(\"Please type your name\")\n",
    "bmi=w/h**2\n",
    "print(\"My name is:-\",name,\"and my BMI is=\",bmi)\n"
   ]
  }
 ],
 "metadata": {
  "kernelspec": {
   "display_name": "Python 3 (ipykernel)",
   "language": "python",
   "name": "python3"
  },
  "language_info": {
   "codemirror_mode": {
    "name": "ipython",
    "version": 3
   },
   "file_extension": ".py",
   "mimetype": "text/x-python",
   "name": "python",
   "nbconvert_exporter": "python",
   "pygments_lexer": "ipython3",
   "version": "3.9.7"
  }
 },
 "nbformat": 4,
 "nbformat_minor": 5
}
