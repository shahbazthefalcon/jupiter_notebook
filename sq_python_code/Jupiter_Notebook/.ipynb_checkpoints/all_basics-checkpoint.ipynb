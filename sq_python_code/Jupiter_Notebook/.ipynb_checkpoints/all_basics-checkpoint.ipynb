{
 "cells": [
  {
   "cell_type": "markdown",
   "id": "1eb8ffcc",
   "metadata": {},
   "source": [
    "# Python ka Chilla with Baba Ammar\n",
    "## We are Learning Python in Jupiter Notebook\n",
    "### Basics of Python\n",
    "1. My First Program"
   ]
  },
  {
   "cell_type": "code",
   "execution_count": 6,
   "id": "42620950",
   "metadata": {
    "scrolled": true
   },
   "outputs": [
    {
     "name": "stdout",
     "output_type": "stream",
     "text": [
      "5\n",
      "hello world\n",
      "We are learning python with ammar\n"
     ]
    }
   ],
   "source": [
    "print(2+3)\n",
    "print(\"hello world\")\n",
    "print(\"We are learning python with ammar\")"
   ]
  },
  {
   "cell_type": "markdown",
   "id": "5bad4294",
   "metadata": {},
   "source": [
    " **OPERATORS**"
   ]
  },
  {
   "cell_type": "code",
   "execution_count": 7,
   "id": "1251fe10",
   "metadata": {},
   "outputs": [
    {
     "name": "stdout",
     "output_type": "stream",
     "text": [
      "5\n",
      "3\n",
      "3.0\n",
      "9\n",
      "4\n",
      "1\n",
      "125\n",
      "75.66666666666667\n"
     ]
    }
   ],
   "source": [
    "print(2+3)\n",
    "print(5-2)\n",
    "print(6/2)\n",
    "print (3*3)\n",
    "print (9//2)\n",
    "print(13%2)\n",
    "print(5**3)\n",
    "\n",
    "print (5**3-50+40*2/3%2)\n",
    "\n",
    "# NOTE: Follow PEMDAS  Rule"
   ]
  },
  {
   "cell_type": "markdown",
   "id": "59ce5ae6",
   "metadata": {},
   "source": [
    " **03-Strings**"
   ]
  },
  {
   "cell_type": "code",
   "execution_count": 8,
   "id": "4ff566af",
   "metadata": {},
   "outputs": [
    {
     "name": "stdout",
     "output_type": "stream",
     "text": [
      "Hello Shahbaz\n",
      "We are learning python at fast pace\n",
      "    This is a test for strings function in python\n"
     ]
    }
   ],
   "source": [
    "print('Hello Shahbaz')\n",
    "print('We are learning python at fast pace')\n",
    "print('''    This is a test for strings function in python''')"
   ]
  },
  {
   "cell_type": "markdown",
   "id": "ca1e272d",
   "metadata": {},
   "source": [
    "**04-Commenting**"
   ]
  },
  {
   "cell_type": "code",
   "execution_count": 11,
   "id": "ac645d5a",
   "metadata": {},
   "outputs": [
    {
     "name": "stdout",
     "output_type": "stream",
     "text": [
      "This is test for comments \n",
      "Comments are very helpfuly in Python\n",
      "whenever we read our code it will be easy to understand if comments are used for seld and as well as for others\n",
      "above 3 lines are commented \n"
     ]
    }
   ],
   "source": [
    "# print (\"This is test for comments \")\n",
    "# print(\"Comments are very helpfuly in Python\")\n",
    "# print(\"whenever we read our code it will be easy to understand if comments are used for seld and as well as for others\")\n",
    "print(\"above 3 lines are commented \") # This is best e.g for Comments"
   ]
  },
  {
   "cell_type": "markdown",
   "id": "82797ec0",
   "metadata": {},
   "source": [
    "**05-Variables**"
   ]
  },
  {
   "cell_type": "code",
   "execution_count": 12,
   "id": "4291bdd6",
   "metadata": {},
   "outputs": [
    {
     "name": "stdout",
     "output_type": "stream",
     "text": [
      "Mangoes\n",
      "<class 'int'>\n",
      "5\n",
      "<class 'str'>\n",
      "Hello Python\n",
      "15 Hello Python i am New to Python\n"
     ]
    }
   ],
   "source": [
    "fruits_basket=\"Mangoes\"\n",
    "print (fruits_basket)\n",
    "x=5\n",
    "y=\"Hello Python\"\n",
    "print(type(x))\n",
    "print (x)\n",
    "print(type(y))\n",
    "print(y)\n",
    "print(x+10,y+\" i am New to Python\")"
   ]
  },
  {
   "cell_type": "markdown",
   "id": "98581567",
   "metadata": {},
   "source": [
    "**06-INPUT VARIABLES**"
   ]
  },
  {
   "cell_type": "code",
   "execution_count": 13,
   "id": "88c7af12",
   "metadata": {},
   "outputs": [
    {
     "name": "stdout",
     "output_type": "stream",
     "text": [
      "What is your name ? Shah\n",
      "Hello, Shah\n",
      "Whats your name?Shah\n",
      "Hello!  Shah\n",
      "Whats your Name? \n",
      "Type your age. \n",
      "Hello!   You are still young\n"
     ]
    }
   ],
   "source": [
    "#Input variables are used to take user input \n",
    "name= input(\"What is your name ? \")\n",
    "greetings= \"Hello,\"\n",
    "print(greetings,name)\n",
    "\n",
    "#2nd stage of input\n",
    "name = input(\"Whats your name?\") \n",
    "print(\"Hello! \",name) #This will shorten the code \n",
    "\n",
    "#3rd Stage of input Method\n",
    "\n",
    "name=input(\"Whats your Name? \")\n",
    "age= input(\"Type your age. \")\n",
    "greetings=\"Hello! \"\n",
    "print(greetings,name,\"You are still young\")"
   ]
  },
  {
   "cell_type": "markdown",
   "id": "ff7290d1",
   "metadata": {},
   "source": [
    "**07-Conditional Logic**"
   ]
  },
  {
   "cell_type": "code",
   "execution_count": 14,
   "id": "255d6155",
   "metadata": {},
   "outputs": [
    {
     "name": "stdout",
     "output_type": "stream",
     "text": [
      "Type your Name:-shahbz\n",
      "Type your age:-18\n",
      "<class 'int'>\n",
      "Hello! shahbz True\n"
     ]
    }
   ],
   "source": [
    "std_name=input(\"Type your Name:-\")\n",
    "age=input(\"Type your age:-\")\n",
    "age=int(age)\n",
    "print(type(age))\n",
    "\n",
    "eligible_age=18\n",
    "\n",
    "print(\"Hello!\",std_name,age==eligible_age)\n"
   ]
  },
  {
   "cell_type": "markdown",
   "id": "b09e03b6",
   "metadata": {},
   "source": [
    "**08-TYPE Conversion-Typecasting**"
   ]
  },
  {
   "cell_type": "code",
   "execution_count": 15,
   "id": "d4d0101d",
   "metadata": {},
   "outputs": [
    {
     "name": "stdout",
     "output_type": "stream",
     "text": [
      "What is your age18\n",
      "What is your name shahbaz\n",
      "18 <class 'int'>\n"
     ]
    }
   ],
   "source": [
    "# age=input(\"What is your age\")\n",
    "# name=input(\"What is your name \")\n",
    "# print(name, type(str(name)))\n",
    "age=input(\"What is your age\")\n",
    "name=input(\"What is your name \")\n",
    "print(age, type(int(age)))"
   ]
  },
  {
   "cell_type": "markdown",
   "id": "0881a10a",
   "metadata": {},
   "source": [
    "**09-IF ELSE ELIF**"
   ]
  },
  {
   "cell_type": "code",
   "execution_count": 27,
   "id": "54ba059e",
   "metadata": {},
   "outputs": [
    {
     "name": "stdout",
     "output_type": "stream",
     "text": [
      "Type your name: shahb\n",
      "Please type your age: 12\n",
      "<class 'int'>\n",
      "You are authorised to access the content\n"
     ]
    }
   ],
   "source": [
    "name=input(\"Type your name: \")\n",
    "age=input(\"Please type your age: \")\n",
    "eligible_age=10\n",
    "age=int(age)\n",
    "print(type(age))\n",
    "if age>=eligible_age:\n",
    "    print(\"You are authorised to access the content\")\n",
    "else:\n",
    "    print(\"You are not eligible\")\n"
   ]
  },
  {
   "cell_type": "markdown",
   "id": "e989514a",
   "metadata": {},
   "source": [
    "**10-Functions**"
   ]
  },
  {
   "cell_type": "code",
   "execution_count": 78,
   "id": "ec81021a",
   "metadata": {},
   "outputs": [
    {
     "name": "stdout",
     "output_type": "stream",
     "text": [
      "35\n"
     ]
    }
   ],
   "source": [
    "# Method 1 Define a function\n",
    "\n",
    "# def clicks():\n",
    "#     print(\"We are learning python in 40Days with Baba Ammar\")\n",
    "#     print(\"We are learning python in 40Days with Baba Ammar\")\n",
    "#     print(\"We are learning python in 40Days with Baba Ammar\")\n",
    "\n",
    "# clicks()\n",
    "\n",
    "# Method 2 \n",
    "# def clicks():\n",
    "#     text=\"we are learning Python in 30 Days\"\n",
    "#     print(text)\n",
    "#     print(text)\n",
    "#     print(text)\n",
    "# clicks()\n",
    "\n",
    "# Method 3\n",
    "\n",
    "# def clicks(text):\n",
    "#     print(text)\n",
    "#     print(text)    \n",
    "#     print(text)\n",
    "\n",
    "#     clicks(\"We are Learning Python with Ammar Baba in just 40 days\")\n",
    "\n",
    "#Method 4 defineing a function with if elif else\n",
    "#def school_calulator(age,text):alternate\n",
    "# def school_calulator(age):\n",
    "#     if age==5:\n",
    "#         print(\"Hammad can go to school\")\n",
    "#     elif age>5:\n",
    "#         print(\"Hammad should go to higher school\")\n",
    "#     else:\n",
    "#         print(\"Hammad is still a baby\")\n",
    "# school_calulator(5)\n",
    "#school_calulator(5,\"Hammad\") alternate\n",
    "\n",
    "#DEFINING A FUTURE FUNTION\n",
    "\n",
    "\n",
    "def future_age(age):\n",
    "    #new_age=input(\"How old are you:-\",age)\n",
    "    new_age=int(age)\n",
    "    #print (type(new_age))\n",
    "    new_age=age+20\n",
    "    return new_age\n",
    "future_predicted_age=future_age(15) \n",
    "print(future_predicted_age)\n",
    "\n",
    "    "
   ]
  },
  {
   "cell_type": "markdown",
   "id": "9c3762ba",
   "metadata": {},
   "source": [
    "**11-LOOPS**"
   ]
  },
  {
   "cell_type": "code",
   "execution_count": 18,
   "id": "0eddfd0c",
   "metadata": {},
   "outputs": [
    {
     "name": "stdout",
     "output_type": "stream",
     "text": [
      "Jan\n",
      "Feb\n",
      "March\n",
      "Apr\n",
      "May\n",
      "Jun\n",
      "Jul\n",
      "Sep\n",
      "Oct\n",
      "Nov\n"
     ]
    }
   ],
   "source": [
    "# WHILE LOOP\n",
    "\n",
    "# x=0\n",
    "# while (x<5):\n",
    "#     print(x)\n",
    "#     x=x+1\n",
    "    \n",
    "\n",
    "    # FOR LOOP\n",
    "\n",
    "# for x in range(4,11):\n",
    "#     print(x)\n",
    "\n",
    "\n",
    "# LOOP IN ARRAYS\n",
    "\n",
    "from ast import AugAssign\n",
    "from os import sep\n",
    "\n",
    "\n",
    "months=[\"Jan\",\"Feb\",\"March\",\"Apr\",\"May\",\"Jun\",\"Jul\",\"Aug\",\"Sep\",\"Oct\",\"Nov\",\"Dec\"]\n",
    "\n",
    "for m in months:\n",
    "    if m==\"Aug\":continue\n",
    "    if m==\"Dec\":break\n",
    "    print(m)\n",
    "   "
   ]
  },
  {
   "cell_type": "markdown",
   "id": "e02aef23",
   "metadata": {},
   "source": [
    "**12-IMPORT LIBRARIES**"
   ]
  },
  {
   "cell_type": "code",
   "execution_count": 1,
   "id": "3cd9c30f",
   "metadata": {},
   "outputs": [
    {
     "name": "stdout",
     "output_type": "stream",
     "text": [
      "The value of Pi is: 3.141592653589793\n",
      "175\n"
     ]
    }
   ],
   "source": [
    "# Importing Math Lib for the Value of Pi\n",
    "\n",
    "import math\n",
    "print(\"The value of Pi is:\",math.pi)\n",
    "\n",
    "import statistics\n",
    "\n",
    "x=[100,150,200,250]\n",
    "print(statistics.mean(x))\n",
    "\n",
    "#OTHER IMPORTANAT LIBRARIES ARE NUMPI, PANDA, KIRA"
   ]
  },
  {
   "cell_type": "markdown",
   "id": "aaa885d6",
   "metadata": {},
   "source": [
    "**13-TROUBLESHOOTING**"
   ]
  },
  {
   "cell_type": "code",
   "execution_count": 20,
   "id": "59aa5e22",
   "metadata": {},
   "outputs": [
    {
     "name": "stdout",
     "output_type": "stream",
     "text": [
      "Welcome to Python Error Handling\n",
      "Hello name\n",
      "Hello Shahbz\n"
     ]
    }
   ],
   "source": [
    "#PYTHON ERROR HANDLING\n",
    "\n",
    "#1. Syntac Error\n",
    "\n",
    "print(\"Welcome to Python Error Handling\")\n",
    "\n",
    "# Divion by ZERO Error (RUNTIME ERROR)\n",
    "\n",
    "#print(25/0)\n",
    " \n",
    "#SYMANTIC ERROR\n",
    "\n",
    "name=\"Shahbz\"\n",
    "\n",
    "print(\"Hello name\")#User Self error\n",
    "print(\"Hello\",name)\n"
   ]
  }
 ],
 "metadata": {
  "kernelspec": {
   "display_name": "Python 3 (ipykernel)",
   "language": "python",
   "name": "python3"
  },
  "language_info": {
   "codemirror_mode": {
    "name": "ipython",
    "version": 3
   },
   "file_extension": ".py",
   "mimetype": "text/x-python",
   "name": "python",
   "nbconvert_exporter": "python",
   "pygments_lexer": "ipython3",
   "version": "3.9.7"
  }
 },
 "nbformat": 4,
 "nbformat_minor": 5
}
