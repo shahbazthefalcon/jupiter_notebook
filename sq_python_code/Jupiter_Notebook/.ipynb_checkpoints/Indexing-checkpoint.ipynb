{
 "cells": [
  {
   "cell_type": "markdown",
   "id": "4b1e29d0",
   "metadata": {},
   "source": [
    "# Indexing"
   ]
  },
  {
   "cell_type": "code",
   "execution_count": 34,
   "id": "e9aaaa31",
   "metadata": {},
   "outputs": [
    {
     "data": {
      "text/plain": [
       "'shahbaz qaiser'"
      ]
     },
     "execution_count": 34,
     "metadata": {},
     "output_type": "execute_result"
    }
   ],
   "source": [
    "name=\"shahbaz qaiser\"\n",
    "name\n"
   ]
  },
  {
   "cell_type": "code",
   "execution_count": 36,
   "id": "b0800a08",
   "metadata": {},
   "outputs": [
    {
     "data": {
      "text/plain": [
       "14"
      ]
     },
     "execution_count": 36,
     "metadata": {},
     "output_type": "execute_result"
    }
   ],
   "source": [
    "len(name)\n"
   ]
  },
  {
   "cell_type": "code",
   "execution_count": 41,
   "id": "711dcbd3",
   "metadata": {},
   "outputs": [
    {
     "data": {
      "text/plain": [
       "'shahbaz qaiser'"
      ]
     },
     "execution_count": 41,
     "metadata": {},
     "output_type": "execute_result"
    }
   ],
   "source": [
    "#IMPORTANT CONCEPT MUST  UNDERSTAND the LENGTH OF STRING to OUTPUT IN REVERSE\n",
    "\n",
    "name[-14:14]"
   ]
  },
  {
   "cell_type": "markdown",
   "id": "308890ac",
   "metadata": {},
   "source": [
    "# STRING METHODS"
   ]
  },
  {
   "cell_type": "code",
   "execution_count": 43,
   "id": "b3a4c136",
   "metadata": {},
   "outputs": [
    {
     "data": {
      "text/plain": [
       "'MANGO'"
      ]
     },
     "execution_count": 43,
     "metadata": {},
     "output_type": "execute_result"
    }
   ],
   "source": [
    "fruit=\"mango\"\n",
    "fruit.upper()\n"
   ]
  },
  {
   "cell_type": "code",
   "execution_count": 44,
   "id": "064d1b3b",
   "metadata": {},
   "outputs": [
    {
     "data": {
      "text/plain": [
       "'Mango'"
      ]
     },
     "execution_count": 44,
     "metadata": {},
     "output_type": "execute_result"
    }
   ],
   "source": [
    "fruit.capitalize()"
   ]
  },
  {
   "cell_type": "code",
   "execution_count": 45,
   "id": "00c4fea1",
   "metadata": {},
   "outputs": [
    {
     "data": {
      "text/plain": [
       "'mango'"
      ]
     },
     "execution_count": 45,
     "metadata": {},
     "output_type": "execute_result"
    }
   ],
   "source": [
    "fruit.lower()"
   ]
  },
  {
   "cell_type": "code",
   "execution_count": 48,
   "id": "60c55f47",
   "metadata": {},
   "outputs": [
    {
     "data": {
      "text/plain": [
       "'Shango'"
      ]
     },
     "execution_count": 48,
     "metadata": {},
     "output_type": "execute_result"
    }
   ],
   "source": [
    "fruit.replace(\"man\",\"Shan\")"
   ]
  },
  {
   "cell_type": "markdown",
   "id": "09f929e8",
   "metadata": {},
   "source": [
    "**STRING COUNT **\n"
   ]
  },
  {
   "cell_type": "code",
   "execution_count": 51,
   "id": "1328139b",
   "metadata": {},
   "outputs": [],
   "source": [
    "my_string=\"My name is Shahbaz Qaiser\""
   ]
  },
  {
   "cell_type": "code",
   "execution_count": 52,
   "id": "09b5534e",
   "metadata": {},
   "outputs": [
    {
     "data": {
      "text/plain": [
       "'My name is Shahbaz Qaiser'"
      ]
     },
     "execution_count": 52,
     "metadata": {},
     "output_type": "execute_result"
    }
   ],
   "source": [
    "my_string"
   ]
  },
  {
   "cell_type": "code",
   "execution_count": 54,
   "id": "8d85ae58",
   "metadata": {},
   "outputs": [
    {
     "data": {
      "text/plain": [
       "1"
      ]
     },
     "execution_count": 54,
     "metadata": {},
     "output_type": "execute_result"
    }
   ],
   "source": [
    "my_string.count(\"S\")"
   ]
  },
  {
   "cell_type": "markdown",
   "id": "f15ce904",
   "metadata": {},
   "source": [
    "**FINDING AN INDEX NUMBER In STRING**"
   ]
  },
  {
   "cell_type": "code",
   "execution_count": 55,
   "id": "914a121d",
   "metadata": {},
   "outputs": [
    {
     "data": {
      "text/plain": [
       "11"
      ]
     },
     "execution_count": 55,
     "metadata": {},
     "output_type": "execute_result"
    }
   ],
   "source": [
    "my_string.find(\"Sh\")"
   ]
  },
  {
   "cell_type": "markdown",
   "id": "63951b12",
   "metadata": {},
   "source": [
    "**SPLIT A STRING**"
   ]
  },
  {
   "cell_type": "code",
   "execution_count": 56,
   "id": "1a6697b8",
   "metadata": {},
   "outputs": [
    {
     "data": {
      "text/plain": [
       "['Samosa', ' Pakora', ' Biryani and Karahi']"
      ]
     },
     "execution_count": 56,
     "metadata": {},
     "output_type": "execute_result"
    }
   ],
   "source": [
    "menu=\"Samosa, Pakora, Biryani and Karahi\"\n",
    "menu.split(\",\")"
   ]
  }
 ],
 "metadata": {
  "kernelspec": {
   "display_name": "Python 3 (ipykernel)",
   "language": "python",
   "name": "python3"
  },
  "language_info": {
   "codemirror_mode": {
    "name": "ipython",
    "version": 3
   },
   "file_extension": ".py",
   "mimetype": "text/x-python",
   "name": "python",
   "nbconvert_exporter": "python",
   "pygments_lexer": "ipython3",
   "version": "3.9.7"
  }
 },
 "nbformat": 4,
 "nbformat_minor": 5
}
