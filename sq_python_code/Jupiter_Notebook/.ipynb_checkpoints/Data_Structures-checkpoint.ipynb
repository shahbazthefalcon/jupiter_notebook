{
 "cells": [
  {
   "cell_type": "markdown",
   "id": "f2c23cc4",
   "metadata": {},
   "source": [
    "# DATA STRUCTURES IN PYTHON\n",
    "1. tuple\n",
    "2. Dictionary\n",
    "3.List\n",
    "4.Set"
   ]
  },
  {
   "cell_type": "markdown",
   "id": "61d33403",
   "metadata": {},
   "source": [
    "## TUPLES \n",
    "1. ordered collection of elements \n",
    "2. Enclosed in paranthesir()\n",
    "3. different elements can be stored in elements\n",
    "4. tuples are Unmutable i.e can not be changed"
   ]
  },
  {
   "cell_type": "code",
   "execution_count": 3,
   "id": "6d068abc",
   "metadata": {},
   "outputs": [
    {
     "data": {
      "text/plain": [
       "(20, 'Shahbaz', 30.5, True)"
      ]
     },
     "execution_count": 3,
     "metadata": {},
     "output_type": "execute_result"
    }
   ],
   "source": [
    "tup1=(20,\"Shahbaz\",30.5,True)\n",
    "tup1\n"
   ]
  },
  {
   "cell_type": "code",
   "execution_count": 4,
   "id": "be338054",
   "metadata": {},
   "outputs": [
    {
     "data": {
      "text/plain": [
       "tuple"
      ]
     },
     "execution_count": 4,
     "metadata": {},
     "output_type": "execute_result"
    }
   ],
   "source": [
    "type(tup1)"
   ]
  },
  {
   "cell_type": "markdown",
   "id": "d8e45423",
   "metadata": {},
   "source": [
    "**INDEXING IN TUPLE**"
   ]
  },
  {
   "cell_type": "code",
   "execution_count": 5,
   "id": "c547e043",
   "metadata": {},
   "outputs": [
    {
     "data": {
      "text/plain": [
       "4"
      ]
     },
     "execution_count": 5,
     "metadata": {},
     "output_type": "execute_result"
    }
   ],
   "source": [
    "len(tup1)"
   ]
  },
  {
   "cell_type": "code",
   "execution_count": 8,
   "id": "acbcf7d7",
   "metadata": {},
   "outputs": [
    {
     "data": {
      "text/plain": [
       "(20, 'Shahbaz', 30.5, True)"
      ]
     },
     "execution_count": 8,
     "metadata": {},
     "output_type": "execute_result"
    }
   ],
   "source": [
    "tup1[0:4]"
   ]
  },
  {
   "cell_type": "markdown",
   "id": "a9228769",
   "metadata": {},
   "source": [
    "**TUPLE CONCATINATION**"
   ]
  },
  {
   "cell_type": "code",
   "execution_count": 10,
   "id": "1d0fba92",
   "metadata": {},
   "outputs": [
    {
     "data": {
      "text/plain": [
       "(False, 'Qaiser', 20, 50.05)"
      ]
     },
     "execution_count": 10,
     "metadata": {},
     "output_type": "execute_result"
    }
   ],
   "source": [
    "tup2=(False,\"Qaiser\",20,50.05)\n",
    "tup2\n"
   ]
  },
  {
   "cell_type": "markdown",
   "id": "119e2eb6",
   "metadata": {},
   "source": [
    "**CONCATENATE**"
   ]
  },
  {
   "cell_type": "code",
   "execution_count": 11,
   "id": "94a64a13",
   "metadata": {},
   "outputs": [
    {
     "data": {
      "text/plain": [
       "(20, 'Shahbaz', 30.5, True, False, 'Qaiser', 20, 50.05)"
      ]
     },
     "execution_count": 11,
     "metadata": {},
     "output_type": "execute_result"
    }
   ],
   "source": [
    "tup1+tup2`"
   ]
  },
  {
   "cell_type": "markdown",
   "id": "3f45e361",
   "metadata": {},
   "source": [
    "**MULTIPLICATION**"
   ]
  },
  {
   "cell_type": "code",
   "execution_count": 12,
   "id": "5d6525bb",
   "metadata": {},
   "outputs": [
    {
     "data": {
      "text/plain": [
       "(20,\n",
       " 'Shahbaz',\n",
       " 30.5,\n",
       " True,\n",
       " 20,\n",
       " 'Shahbaz',\n",
       " 30.5,\n",
       " True,\n",
       " False,\n",
       " 'Qaiser',\n",
       " 20,\n",
       " 50.05)"
      ]
     },
     "execution_count": 12,
     "metadata": {},
     "output_type": "execute_result"
    }
   ],
   "source": [
    "tup1*2+tup2"
   ]
  },
  {
   "cell_type": "code",
   "execution_count": 13,
   "id": "4b4710ac",
   "metadata": {},
   "outputs": [
    {
     "data": {
      "text/plain": [
       "(20, 30, 40, 50)"
      ]
     },
     "execution_count": 13,
     "metadata": {},
     "output_type": "execute_result"
    }
   ],
   "source": [
    "tup3=(20,30,40,50)\n",
    "tup3\n"
   ]
  },
  {
   "cell_type": "code",
   "execution_count": 14,
   "id": "247e47c7",
   "metadata": {},
   "outputs": [
    {
     "data": {
      "text/plain": [
       "20"
      ]
     },
     "execution_count": 14,
     "metadata": {},
     "output_type": "execute_result"
    }
   ],
   "source": [
    "min(tup3)"
   ]
  },
  {
   "cell_type": "code",
   "execution_count": 15,
   "id": "006a9ffb",
   "metadata": {},
   "outputs": [
    {
     "data": {
      "text/plain": [
       "50"
      ]
     },
     "execution_count": 15,
     "metadata": {},
     "output_type": "execute_result"
    }
   ],
   "source": [
    "max(tup3)"
   ]
  },
  {
   "cell_type": "markdown",
   "id": "cf7c45b6",
   "metadata": {},
   "source": [
    "---"
   ]
  },
  {
   "cell_type": "markdown",
   "id": "cddaf163",
   "metadata": {},
   "source": [
    "## LISTS\n",
    "1. Order collection of elements \n",
    "2. enclosed in[]\n",
    "3. Lists are Mutable i.e values can be changed \n"
   ]
  },
  {
   "cell_type": "code",
   "execution_count": 16,
   "id": "9db49924",
   "metadata": {},
   "outputs": [
    {
     "data": {
      "text/plain": [
       "['Shahbaz', 200, True]"
      ]
     },
     "execution_count": 16,
     "metadata": {},
     "output_type": "execute_result"
    }
   ],
   "source": [
    "list1=[\"Shahbaz\",200,True]\n",
    "list1"
   ]
  },
  {
   "cell_type": "code",
   "execution_count": 17,
   "id": "13b8cdfb",
   "metadata": {},
   "outputs": [
    {
     "data": {
      "text/plain": [
       "3"
      ]
     },
     "execution_count": 17,
     "metadata": {},
     "output_type": "execute_result"
    }
   ],
   "source": [
    "len(list1)"
   ]
  },
  {
   "cell_type": "code",
   "execution_count": 18,
   "id": "8d46d566",
   "metadata": {},
   "outputs": [
    {
     "data": {
      "text/plain": [
       "True"
      ]
     },
     "execution_count": 18,
     "metadata": {},
     "output_type": "execute_result"
    }
   ],
   "source": [
    "list1[2]"
   ]
  },
  {
   "cell_type": "code",
   "execution_count": 20,
   "id": "4af512aa",
   "metadata": {},
   "outputs": [],
   "source": [
    "list2=[\"Biryani\",\"Raita\",True,False,300,500.900]"
   ]
  },
  {
   "cell_type": "code",
   "execution_count": 21,
   "id": "d57216e7",
   "metadata": {},
   "outputs": [
    {
     "data": {
      "text/plain": [
       "['Biryani', 'Raita', True, False, 300, 500.9]"
      ]
     },
     "execution_count": 21,
     "metadata": {},
     "output_type": "execute_result"
    }
   ],
   "source": [
    "list2"
   ]
  },
  {
   "cell_type": "code",
   "execution_count": 23,
   "id": "0808b023",
   "metadata": {},
   "outputs": [
    {
     "data": {
      "text/plain": [
       "['Shahbaz', 200, True, 'Biryani', 'Raita', True, False, 300, 500.9]"
      ]
     },
     "execution_count": 23,
     "metadata": {},
     "output_type": "execute_result"
    }
   ],
   "source": [
    "list1+list2"
   ]
  },
  {
   "cell_type": "code",
   "execution_count": 26,
   "id": "5454e9ef",
   "metadata": {},
   "outputs": [
    {
     "data": {
      "text/plain": [
       "[True, 200, 'Shahbaz']"
      ]
     },
     "execution_count": 26,
     "metadata": {},
     "output_type": "execute_result"
    }
   ],
   "source": [
    "list1.reverse()\n",
    "list1\n"
   ]
  },
  {
   "cell_type": "code",
   "execution_count": 27,
   "id": "1cc5d8ab",
   "metadata": {},
   "outputs": [
    {
     "data": {
      "text/plain": [
       "[True, 200, 'Shahbaz', 'Qaiser']"
      ]
     },
     "execution_count": 27,
     "metadata": {},
     "output_type": "execute_result"
    }
   ],
   "source": [
    "list1.append(\"Qaiser\")\n",
    "list1\n"
   ]
  },
  {
   "cell_type": "code",
   "execution_count": 28,
   "id": "91066c09",
   "metadata": {},
   "outputs": [
    {
     "data": {
      "text/plain": [
       "[True, 200, 'Shahbaz', 'Qaiser', True, 200, 'Shahbaz', 'Qaiser']"
      ]
     },
     "execution_count": 28,
     "metadata": {},
     "output_type": "execute_result"
    }
   ],
   "source": [
    "list1*2"
   ]
  },
  {
   "cell_type": "code",
   "execution_count": 30,
   "id": "93a73fce",
   "metadata": {},
   "outputs": [
    {
     "data": {
      "text/plain": [
       "[True, 200, 'Shahbaz', 'Qaiser', 'Biryani', 'Raita', True, False, 300, 500.9]"
      ]
     },
     "execution_count": 30,
     "metadata": {},
     "output_type": "execute_result"
    }
   ],
   "source": [
    "lists=list1+list2\n",
    "lists\n"
   ]
  },
  {
   "cell_type": "markdown",
   "id": "ccf11dfc",
   "metadata": {},
   "source": [
    "## DICTIONARIES\n",
    "1. an order collection of elements \n",
    "2. Start with curly brackets{}\n",
    "3. Dictionaries are mutable\n",
    "4. contain keys and values"
   ]
  },
  {
   "cell_type": "code",
   "execution_count": 29,
   "id": "b97e7786",
   "metadata": {},
   "outputs": [
    {
     "data": {
      "text/plain": [
       "{'Samosa': 480,\n",
       " 'Pakora': 400,\n",
       " 'Dahi Bada': 300,\n",
       " 'Fruit Chat': 300,\n",
       " 'Chicken Rolls': 400}"
      ]
     },
     "execution_count": 29,
     "metadata": {},
     "output_type": "execute_result"
    }
   ],
   "source": [
    "food1={\"Samosa\":480,\"Pakora\":400,\"Dahi Bada\":300,\"Fruit Chat\":300,\"Chicken Rolls\":400}\n",
    "type(food1)\n",
    "food1"
   ]
  },
  {
   "cell_type": "markdown",
   "id": "da7a4e37",
   "metadata": {},
   "source": [
    "**ADDING ELEMENT to DICT**"
   ]
  },
  {
   "cell_type": "code",
   "execution_count": 6,
   "id": "603af44a",
   "metadata": {},
   "outputs": [
    {
     "data": {
      "text/plain": [
       "{'Samosa': 480,\n",
       " 'Pakora': 400,\n",
       " 'Dahi Bada': 300,\n",
       " 'Fruit Chat': 300,\n",
       " 'Chicken Rolls': 400,\n",
       " 'Kachori': 500}"
      ]
     },
     "execution_count": 6,
     "metadata": {},
     "output_type": "execute_result"
    }
   ],
   "source": [
    "food1[\"Kachori\"]=500\n",
    "food1\n"
   ]
  },
  {
   "cell_type": "code",
   "execution_count": 7,
   "id": "18e2f1f5",
   "metadata": {},
   "outputs": [
    {
     "data": {
      "text/plain": [
       "dict_keys(['Samosa', 'Pakora', 'Dahi Bada', 'Fruit Chat', 'Chicken Rolls', 'Kachori'])"
      ]
     },
     "execution_count": 7,
     "metadata": {},
     "output_type": "execute_result"
    }
   ],
   "source": [
    "k1=food1.keys()\n",
    "k1"
   ]
  },
  {
   "cell_type": "code",
   "execution_count": 8,
   "id": "f4933a7e",
   "metadata": {},
   "outputs": [
    {
     "data": {
      "text/plain": [
       "dict_values([480, 400, 300, 300, 400, 500])"
      ]
     },
     "execution_count": 8,
     "metadata": {},
     "output_type": "execute_result"
    }
   ],
   "source": [
    "v1=food1.values()\n",
    "v1"
   ]
  },
  {
   "cell_type": "markdown",
   "id": "b0723053",
   "metadata": {},
   "source": [
    "**UPDATING the DICT**"
   ]
  },
  {
   "cell_type": "code",
   "execution_count": 11,
   "id": "aa5a776c",
   "metadata": {},
   "outputs": [
    {
     "data": {
      "text/plain": [
       "{'Samosa': 480,\n",
       " 'Pakora': 400,\n",
       " 'Dahi Bada': 300,\n",
       " 'Fruit Chat': 300,\n",
       " 'Chicken Rolls': 400,\n",
       " 'Kachori': 600}"
      ]
     },
     "execution_count": 11,
     "metadata": {},
     "output_type": "execute_result"
    }
   ],
   "source": [
    "food1[\"Kachori\"]=600\n",
    "food1\n"
   ]
  },
  {
   "cell_type": "code",
   "execution_count": 12,
   "id": "5980e4ae",
   "metadata": {},
   "outputs": [
    {
     "data": {
      "text/plain": [
       "{'Dates': 300, 'Chocolates': 200, 'Phainian': 1000, 'Milk': 500}"
      ]
     },
     "execution_count": 12,
     "metadata": {},
     "output_type": "execute_result"
    }
   ],
   "source": [
    "food2={\"Dates\":300,\"Chocolates\":200,\"Phainian\":1000,\"Milk\":500}\n",
    "food2"
   ]
  },
  {
   "cell_type": "markdown",
   "id": "e225227c",
   "metadata": {},
   "source": [
    "**CONCATENATE ADDING TWO DICT**"
   ]
  },
  {
   "cell_type": "code",
   "execution_count": 20,
   "id": "d4a2fa72",
   "metadata": {},
   "outputs": [
    {
     "data": {
      "text/plain": [
       "{'Samosa': 480,\n",
       " 'Pakora': 400,\n",
       " 'Dahi Bada': 300,\n",
       " 'Fruit Chat': 300,\n",
       " 'Chicken Rolls': 400,\n",
       " 'Kachori': 600,\n",
       " 'Dates': 300,\n",
       " 'Chocolates': 200,\n",
       " 'Phainian': 1000,\n",
       " 'Milk': 500}"
      ]
     },
     "execution_count": 20,
     "metadata": {},
     "output_type": "execute_result"
    }
   ],
   "source": [
    "# food1 + food2 WRONG WAY\n",
    "food1.update(food2)\n",
    "food1"
   ]
  },
  {
   "cell_type": "markdown",
   "id": "575d89a5",
   "metadata": {},
   "source": [
    "## SETS\n",
    "1. An unoredred and unindexed collection of elements \n",
    "2. Curly braces{}\n",
    "3. Duplicates are not allowed\n"
   ]
  },
  {
   "cell_type": "code",
   "execution_count": 33,
   "id": "d352815c",
   "metadata": {},
   "outputs": [
    {
     "name": "stdout",
     "output_type": "stream",
     "text": [
      "<class 'set'>\n"
     ]
    },
    {
     "data": {
      "text/plain": [
       "{30, 5, 6.5, 'Rayan', 'Shahbaz', 'Shayan', True}"
      ]
     },
     "execution_count": 33,
     "metadata": {},
     "output_type": "execute_result"
    }
   ],
   "source": [
    "s1={5,6.5,30,\"Shahbaz\",\"Shayan\",\"Rayan\",True}\n",
    "print(type(s1))\n",
    "s1"
   ]
  },
  {
   "cell_type": "markdown",
   "id": "eb481a42",
   "metadata": {},
   "source": [
    "**ADDING VALUES IN SETS**"
   ]
  },
  {
   "cell_type": "code",
   "execution_count": 37,
   "id": "7e43923f",
   "metadata": {},
   "outputs": [
    {
     "data": {
      "text/plain": [
       "{30, 5, 6.5, 'Fatima', 'Rayan', 'Shahbaz', 'Shayan', True}"
      ]
     },
     "execution_count": 37,
     "metadata": {},
     "output_type": "execute_result"
    }
   ],
   "source": [
    "s1.add(\"Fatima\")\n",
    "s1\n"
   ]
  }
 ],
 "metadata": {
  "kernelspec": {
   "display_name": "Python 3 (ipykernel)",
   "language": "python",
   "name": "python3"
  },
  "language_info": {
   "codemirror_mode": {
    "name": "ipython",
    "version": 3
   },
   "file_extension": ".py",
   "mimetype": "text/x-python",
   "name": "python",
   "nbconvert_exporter": "python",
   "pygments_lexer": "ipython3",
   "version": "3.9.7"
  }
 },
 "nbformat": 4,
 "nbformat_minor": 5
}
