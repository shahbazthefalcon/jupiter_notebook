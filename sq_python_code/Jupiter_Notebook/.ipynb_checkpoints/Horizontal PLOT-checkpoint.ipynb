{
 "cells": [
  {
   "cell_type": "markdown",
   "id": "2842d538",
   "metadata": {},
   "source": [
    "# HORIZONAL PLOT"
   ]
  },
  {
   "cell_type": "code",
   "execution_count": 4,
   "id": "a194d3eb",
   "metadata": {},
   "outputs": [
    {
     "data": {
      "text/plain": [
       "<function matplotlib.pyplot.show(close=None, block=None)>"
      ]
     },
     "execution_count": 4,
     "metadata": {},
     "output_type": "execute_result"
    },
    {
     "data": {
      "image/png": "[encoded data removed]",
      "text/plain": [
       "<Figure size 432x288 with 1 Axes>"
      ]
     },
     "metadata": {
      "needs_background": "light"
     },
     "output_type": "display_data"
    }
   ],
   "source": [
    "import seaborn as sns\n",
    "import numpy\n",
    "import pandas\n",
    "import matplotlib.pyplot as pl\n",
    "big_ship=sns.load_dataset(\"titanic\")\n",
    "big_ship\n",
    "\n",
    "sns.barplot(x=\"fare\",y=\"class\", hue=\"sex\", data=big_ship, saturation=1)\n",
    "pl.show"
   ]
  }
 ],
 "metadata": {
  "kernelspec": {
   "display_name": "Python 3 (ipykernel)",
   "language": "python",
   "name": "python3"
  },
  "language_info": {
   "codemirror_mode": {
    "name": "ipython",
    "version": 3
   },
   "file_extension": ".py",
   "mimetype": "text/x-python",
   "name": "python",
   "nbconvert_exporter": "python",
   "pygments_lexer": "ipython3",
   "version": "3.9.7"
  }
 },
 "nbformat": 4,
 "nbformat_minor": 5
}
