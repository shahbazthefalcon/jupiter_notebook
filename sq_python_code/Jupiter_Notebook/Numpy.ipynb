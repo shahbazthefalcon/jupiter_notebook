{
 "cells": [
  {
   "cell_type": "markdown",
   "id": "4b18c828",
   "metadata": {},
   "source": [
    "# ARRAYS NUMPY 1D-2D-3D (7a) Lec"
   ]
  },
  {
   "cell_type": "code",
   "execution_count": null,
   "id": "62416943",
   "metadata": {},
   "outputs": [],
   "source": [
    "import numpy as np \n",
    "a= np.array([5,5,5,5,5])\n",
    " \n",
    "#len(a)\n",
    "#type(a)"
   ]
  },
  {
   "cell_type": "code",
   "execution_count": null,
   "id": "5ced9eb1",
   "metadata": {},
   "outputs": [],
   "source": [
    "# LISt OF LISts"
   ]
  },
  {
   "cell_type": "code",
   "execution_count": null,
   "id": "dea313bf",
   "metadata": {},
   "outputs": [],
   "source": [
    "import numpy as np \n",
    "b= np.array([[5,5,5,5],[5,5,5,5],[5,5,5,5]])\n",
    "b\n",
    "#len(b)"
   ]
  },
  {
   "cell_type": "markdown",
   "id": "fc1de768",
   "metadata": {},
   "source": [
    "### INDEXING IN ARRAY"
   ]
  },
  {
   "cell_type": "code",
   "execution_count": null,
   "id": "75588ea8",
   "metadata": {},
   "outputs": [],
   "source": [
    "import numpy as np \n",
    "b= np.array([[5,5,5,5],[5,5,5,5],[5,5,5,5]])\n",
    "\n",
    "b[0:2]#Shows the Index of an element\n",
    "\n",
    "#len(b)"
   ]
  },
  {
   "cell_type": "markdown",
   "id": "9c4b9f19",
   "metadata": {},
   "source": [
    "## Practice EMPTY ARRAYS`"
   ]
  },
  {
   "cell_type": "code",
   "execution_count": null,
   "id": "5bdf2c30",
   "metadata": {},
   "outputs": [],
   "source": [
    "import numpy as np \n",
    "b= np.zeros([4])\n",
    "b\n",
    "#len(b)"
   ]
  },
  {
   "cell_type": "code",
   "execution_count": null,
   "id": "c49f834f",
   "metadata": {},
   "outputs": [],
   "source": [
    "import numpy as np \n",
    "d= np.ones([4])\n",
    "d"
   ]
  },
  {
   "cell_type": "code",
   "execution_count": null,
   "id": "3203076b",
   "metadata": {},
   "outputs": [],
   "source": [
    "import numpy as np \n",
    "e= np.empty([3])\n",
    "e"
   ]
  },
  {
   "cell_type": "markdown",
   "id": "65ef29e9",
   "metadata": {},
   "source": [
    "# ARRAYS in RANGE "
   ]
  },
  {
   "cell_type": "code",
   "execution_count": null,
   "id": "1d47a483",
   "metadata": {},
   "outputs": [],
   "source": [
    "#Range of Elements\n",
    "import numpy as np \n",
    "f= np.arange(6)\n",
    "f"
   ]
  },
  {
   "cell_type": "code",
   "execution_count": null,
   "id": "0662fd02",
   "metadata": {},
   "outputs": [],
   "source": [
    "# with specific range of elements\n",
    "import numpy as np \n",
    "f= np.arange(2,21)\n",
    "f"
   ]
  },
  {
   "cell_type": "code",
   "execution_count": null,
   "id": "fc4f5401",
   "metadata": {},
   "outputs": [],
   "source": [
    "# with specific range of elements with JUMP\n",
    "import numpy as np \n",
    "f= np.arange(1,21,2)\n",
    "f"
   ]
  },
  {
   "cell_type": "code",
   "execution_count": null,
   "id": "f8ddd687",
   "metadata": {},
   "outputs": [],
   "source": [
    "# Linearlt spaced array\n",
    "import numpy as np \n",
    "f= np.linspace(0,25,num=5)# can be used with num specifier(0,10,5)\n",
    "f\n"
   ]
  },
  {
   "cell_type": "markdown",
   "id": "4cb41cd2",
   "metadata": {},
   "source": [
    "# 2-D ARRAYS"
   ]
  },
  {
   "cell_type": "code",
   "execution_count": null,
   "id": "6fde0658",
   "metadata": {},
   "outputs": [],
   "source": [
    "import numpy as np \n",
    "f= np.zeros((4,5))\n",
    "f"
   ]
  },
  {
   "cell_type": "code",
   "execution_count": null,
   "id": "1110191a",
   "metadata": {},
   "outputs": [],
   "source": [
    "import numpy as np \n",
    "f= np.ones((5,6))\n",
    "f"
   ]
  },
  {
   "cell_type": "code",
   "execution_count": null,
   "id": "9f2d359e",
   "metadata": {},
   "outputs": [],
   "source": [
    "import numpy as np \n",
    "f= np.empty((3,4))\n",
    "f"
   ]
  },
  {
   "cell_type": "markdown",
   "id": "8a394baf",
   "metadata": {},
   "source": [
    "# 3D Arrays"
   ]
  },
  {
   "cell_type": "code",
   "execution_count": null,
   "id": "59bfd9af",
   "metadata": {},
   "outputs": [],
   "source": [
    "import numpy as np \n",
    "f= np.arange(24).reshape(2,3,4)\n",
    "#f.ndim shows the dimension\n",
    "f"
   ]
  },
  {
   "cell_type": "markdown",
   "id": "64fff68a",
   "metadata": {},
   "source": [
    "# Specific Data type in Array "
   ]
  },
  {
   "cell_type": "code",
   "execution_count": 15,
   "id": "fce53c57",
   "metadata": {},
   "outputs": [
    {
     "data": {
      "text/plain": [
       "array([1, 1, 1, 1, 1], dtype=int8)"
      ]
     },
     "execution_count": 15,
     "metadata": {},
     "output_type": "execute_result"
    }
   ],
   "source": [
    "import numpy as np\n",
    "f= np.ones(5,dtype=np.int8)\n",
    "f"
   ]
  },
  {
   "cell_type": "code",
   "execution_count": 18,
   "id": "236b8ace",
   "metadata": {},
   "outputs": [
    {
     "data": {
      "text/plain": [
       "array([1., 1., 1., 1.])"
      ]
     },
     "execution_count": 18,
     "metadata": {},
     "output_type": "execute_result"
    }
   ],
   "source": [
    "import numpy as np\n",
    "f= np.ones(4,dtype=np.float64)\n",
    "f"
   ]
  }
 ],
 "metadata": {
  "kernelspec": {
   "display_name": "Python 3 (ipykernel)",
   "language": "python",
   "name": "python3"
  },
  "language_info": {
   "codemirror_mode": {
    "name": "ipython",
    "version": 3
   },
   "file_extension": ".py",
   "mimetype": "text/x-python",
   "name": "python",
   "nbconvert_exporter": "python",
   "pygments_lexer": "ipython3",
   "version": "3.9.7"
  }
 },
 "nbformat": 4,
 "nbformat_minor": 5
}
